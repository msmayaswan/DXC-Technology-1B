{
 "cells": [
  {
   "cell_type": "code",
   "execution_count": 1,
   "metadata": {},
   "outputs": [],
   "source": [
    "from neo4j import GraphDatabase\n",
    "#from openai.embeddings_utils import get_embedding\n",
    "from openai import OpenAI\n",
    "\n",
    "\"\"\"\n",
    "LoadEmbedding: call OpenAI embedding API to generate embeddings for each property of node in Neo4j\n",
    "Version: 1.1\n",
    "\"\"\"\n",
    "OPENAI_KEY = \"OPENAI_API_KEY\"\n",
    "EMBEDDING_MODEL = \"text-embedding-ada-002\"\n",
    "NEO4J_URL = \"bolt://localhost:7687\"\n",
    "NEO4J_USER = \"neo4j\"\n",
    "NEO4J_PASSWORD = \"NEO4J_PASSWORD\"\n",
    "NEO4J_DATABASE = \"NEO4J_DATABASE\"\n",
    "\n",
    "def get_embedding(client, text, model):\n",
    "    response = client.embeddings.create(\n",
    "                    input=text,\n",
    "                    model=model,\n",
    "                )\n",
    "    return response.data[0].embedding\n",
    "\n",
    "def LoadEmbedding(label, property):\n",
    "    driver = GraphDatabase.driver(NEO4J_URL, auth=(NEO4J_USER, NEO4J_PASSWORD), database=NEO4J_DATABASE)\n",
    "    openai_client = OpenAI (api_key = OPENAI_KEY)\n",
    "\n",
    "    with driver.session() as session:\n",
    "        # get chunks in document, together with their section titles\n",
    "        result = session.run(f\"MATCH (ch:{label}) -[:HAS_PARENT]-> (s:Section) RETURN id(ch) AS id, s.title + ' >> ' + ch.{property} AS text\")\n",
    "        # call OpenAI embedding API to generate embeddings for each proporty of node\n",
    "        # for each node, update the embedding property\n",
    "        count = 0\n",
    "        for record in result:\n",
    "            id = record[\"id\"]\n",
    "            text = record[\"text\"]\n",
    "            \n",
    "            # For better performance, text can be batched\n",
    "            embedding = get_embedding(openai_client, text, EMBEDDING_MODEL)\n",
    "            \n",
    "            # key property of Embedding node differentiates different embeddings\n",
    "            cypher = \"CREATE (e:Embedding) SET e.key=$key, e.value=$embedding\"\n",
    "            cypher = cypher + \" WITH e MATCH (n) WHERE id(n) = $id CREATE (n) -[:HAS_EMBEDDING]-> (e)\"\n",
    "            session.run(cypher,key=property, embedding=embedding, id=id )\n",
    "            count = count + 1\n",
    "\n",
    "        session.close()\n",
    "        \n",
    "        print(\"Processed \" + str(count) + \" \" + label + \" nodes for property @\" + property + \".\")\n",
    "        return count\n",
    "\n",
    "\n"
   ]
  },
  {
   "cell_type": "code",
   "execution_count": null,
   "metadata": {},
   "outputs": [],
   "source": [
    "\n",
    "LoadEmbedding(\"Chunk\", \"sentences\")\n",
    "\n",
    "LoadEmbedding(\"Table\", \"name\")\n",
    "\n"
   ]
  }
 ],
 "metadata": {
  "kernelspec": {
   "display_name": "Python 3",
   "language": "python",
   "name": "python3"
  },
  "language_info": {
   "codemirror_mode": {
    "name": "ipython",
    "version": 3
   },
   "file_extension": ".py",
   "mimetype": "text/x-python",
   "name": "python",
   "nbconvert_exporter": "python",
   "pygments_lexer": "ipython3",
   "version": "3.11.6"
  },
  "orig_nbformat": 4
 },
 "nbformat": 4,
 "nbformat_minor": 2
}
